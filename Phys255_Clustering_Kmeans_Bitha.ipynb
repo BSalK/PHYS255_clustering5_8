{
  "cells": [
    {
      "cell_type": "code",
      "source": [
        "# Name: Bitha SK\n",
        "# PHYS 244 Github Clustering Assignment\n",
        "\n",
        "# Data source : pysc_data.txt from Shivam\n",
        "\n",
        "\n",
        "#......................................................\n",
        "# Description : \n",
        "\n",
        "# 1. Created a pandas dataframe\n",
        "# 2. Visualized the data with scatterplot\n",
        "# 3. Determiend optimal number of clusters, and \n",
        "#    Applied K-means clustering \n",
        "#......................................................\n"
      ],
      "outputs": [],
      "execution_count": null,
      "metadata": {
        "collapsed": true,
        "outputExpanded": false,
        "jupyter": {
          "source_hidden": false,
          "outputs_hidden": false
        },
        "nteract": {
          "transient": {
            "deleting": false
          }
        }
      }
    },
    {
      "cell_type": "code",
      "source": [
        "import pandas as pd\n",
        "import numpy as np\n",
        "import seaborn as sns; sns.set()\n",
        "\n",
        "import matplotlib.pylab as plt\n",
        "\n",
        "\n",
        "from sklearn.datasets.samples_generator import make_blobs\n",
        "from sklearn.cluster import KMeans"
      ],
      "outputs": [],
      "execution_count": 129,
      "metadata": {
        "collapsed": true,
        "outputExpanded": false,
        "jupyter": {
          "source_hidden": false,
          "outputs_hidden": false
        },
        "nteract": {
          "transient": {
            "deleting": false
          }
        },
        "execution": {
          "shell.execute_reply": "2020-05-09T01:25:40.627Z",
          "iopub.status.busy": "2020-05-09T01:25:40.598Z",
          "iopub.execute_input": "2020-05-09T01:25:40.607Z",
          "iopub.status.idle": "2020-05-09T01:25:40.618Z"
        }
      }
    },
    {
      "cell_type": "markdown",
      "source": [
        "# Create Pandas dataframe"
      ],
      "metadata": {
        "nteract": {
          "transient": {
            "deleting": false
          }
        }
      }
    },
    {
      "cell_type": "code",
      "source": [
        "columnNames = ['X','Y']"
      ],
      "outputs": [],
      "execution_count": 130,
      "metadata": {
        "collapsed": true,
        "outputExpanded": false,
        "jupyter": {
          "source_hidden": false,
          "outputs_hidden": false
        },
        "nteract": {
          "transient": {
            "deleting": false
          }
        },
        "execution": {
          "iopub.status.busy": "2020-05-09T01:25:46.234Z",
          "iopub.execute_input": "2020-05-09T01:25:46.241Z",
          "iopub.status.idle": "2020-05-09T01:25:46.253Z",
          "shell.execute_reply": "2020-05-09T01:25:46.261Z"
        }
      }
    },
    {
      "cell_type": "code",
      "source": [
        "df_SivamsData = pd.read_table('pysc_data.txt', sep = \",\",comment='#',header=0,names = columnNames) #delim_whitespace=True\n",
        "\n",
        "#'pysc_data.txt'\n",
        "#dataset_git.txt"
      ],
      "outputs": [],
      "execution_count": 131,
      "metadata": {
        "collapsed": true,
        "outputExpanded": false,
        "jupyter": {
          "source_hidden": false,
          "outputs_hidden": false
        },
        "nteract": {
          "transient": {
            "deleting": false
          }
        },
        "execution": {
          "shell.execute_reply": "2020-05-09T01:25:47.341Z",
          "iopub.status.busy": "2020-05-09T01:25:47.309Z",
          "iopub.execute_input": "2020-05-09T01:25:47.320Z",
          "iopub.status.idle": "2020-05-09T01:25:47.333Z"
        }
      }
    },
    {
      "cell_type": "code",
      "source": [
        "df_SivamsData.head()"
      ],
      "outputs": [
        {
          "output_type": "execute_result",
          "execution_count": 132,
          "data": {
            "text/plain": [
              "           X          Y\n",
              "0  21.834044  -9.174932\n",
              "1  23.440649 -10.008110\n",
              "2  23.000229  -8.533631\n",
              "3  24.604665  -9.996657\n",
              "4  25.293512 -10.086594"
            ],
            "text/html": [
              "<div>\n",
              "<style scoped>\n",
              "    .dataframe tbody tr th:only-of-type {\n",
              "        vertical-align: middle;\n",
              "    }\n",
              "\n",
              "    .dataframe tbody tr th {\n",
              "        vertical-align: top;\n",
              "    }\n",
              "\n",
              "    .dataframe thead th {\n",
              "        text-align: right;\n",
              "    }\n",
              "</style>\n",
              "<table border=\"1\" class=\"dataframe\">\n",
              "  <thead>\n",
              "    <tr style=\"text-align: right;\">\n",
              "      <th></th>\n",
              "      <th>X</th>\n",
              "      <th>Y</th>\n",
              "    </tr>\n",
              "  </thead>\n",
              "  <tbody>\n",
              "    <tr>\n",
              "      <th>0</th>\n",
              "      <td>21.834044</td>\n",
              "      <td>-9.174932</td>\n",
              "    </tr>\n",
              "    <tr>\n",
              "      <th>1</th>\n",
              "      <td>23.440649</td>\n",
              "      <td>-10.008110</td>\n",
              "    </tr>\n",
              "    <tr>\n",
              "      <th>2</th>\n",
              "      <td>23.000229</td>\n",
              "      <td>-8.533631</td>\n",
              "    </tr>\n",
              "    <tr>\n",
              "      <th>3</th>\n",
              "      <td>24.604665</td>\n",
              "      <td>-9.996657</td>\n",
              "    </tr>\n",
              "    <tr>\n",
              "      <th>4</th>\n",
              "      <td>25.293512</td>\n",
              "      <td>-10.086594</td>\n",
              "    </tr>\n",
              "  </tbody>\n",
              "</table>\n",
              "</div>"
            ]
          },
          "metadata": {}
        }
      ],
      "execution_count": 132,
      "metadata": {
        "collapsed": true,
        "outputExpanded": false,
        "jupyter": {
          "source_hidden": false,
          "outputs_hidden": false
        },
        "nteract": {
          "transient": {
            "deleting": false
          }
        },
        "execution": {
          "iopub.status.busy": "2020-05-09T01:25:49.506Z",
          "iopub.execute_input": "2020-05-09T01:25:49.514Z",
          "iopub.status.idle": "2020-05-09T01:25:49.535Z",
          "shell.execute_reply": "2020-05-09T01:25:49.542Z"
        }
      }
    },
    {
      "cell_type": "code",
      "source": [
        "x = df_SivamsData['X']\n",
        "y = df_SivamsData['Y']\n"
      ],
      "outputs": [],
      "execution_count": 133,
      "metadata": {
        "collapsed": true,
        "outputExpanded": false,
        "jupyter": {
          "source_hidden": false,
          "outputs_hidden": false
        },
        "nteract": {
          "transient": {
            "deleting": false
          }
        },
        "execution": {
          "iopub.status.busy": "2020-05-09T01:25:51.561Z",
          "iopub.execute_input": "2020-05-09T01:25:51.569Z",
          "iopub.status.idle": "2020-05-09T01:25:51.581Z",
          "shell.execute_reply": "2020-05-09T01:25:51.588Z"
        }
      }
    },
    {
      "cell_type": "markdown",
      "source": [
        "# Visualize data"
      ],
      "metadata": {
        "nteract": {
          "transient": {
            "deleting": false
          }
        }
      }
    },
    {
      "cell_type": "code",
      "source": [
        "fig1 = plt.figure(figsize=(10,8))\n",
        "sns.scatterplot(df_SivamsData['X'],df_SivamsData['Y'])\n",
        "\n",
        "plt.show()"
      ],
      "outputs": [
        {
          "output_type": "display_data",
          "data": {
            "text/plain": [
              "<Figure size 720x576 with 1 Axes>"
            ],
            "image/png": "[encoded data removed]"
          },
          "metadata": {}
        }
      ],
      "execution_count": 134,
      "metadata": {
        "collapsed": true,
        "outputExpanded": false,
        "jupyter": {
          "source_hidden": false,
          "outputs_hidden": false
        },
        "nteract": {
          "transient": {
            "deleting": false
          }
        },
        "execution": {
          "iopub.status.busy": "2020-05-09T01:25:53.003Z",
          "iopub.execute_input": "2020-05-09T01:25:53.011Z",
          "iopub.status.idle": "2020-05-09T01:25:53.380Z",
          "shell.execute_reply": "2020-05-09T01:25:53.399Z"
        }
      }
    },
    {
      "cell_type": "code",
      "source": [
        "# Create kde plot"
      ],
      "outputs": [],
      "execution_count": null,
      "metadata": {
        "collapsed": true,
        "outputExpanded": false,
        "jupyter": {
          "source_hidden": false,
          "outputs_hidden": false
        },
        "nteract": {
          "transient": {
            "deleting": false
          }
        }
      }
    },
    {
      "cell_type": "code",
      "source": [
        "ax = sns.kdeplot(x, y, shade=True)"
      ],
      "outputs": [
        {
          "output_type": "display_data",
          "data": {
            "text/plain": [
              "<Figure size 432x288 with 1 Axes>"
            ],
            "image/png": "[encoded data removed]"
          },
          "metadata": {}
        }
      ],
      "execution_count": 139,
      "metadata": {
        "collapsed": true,
        "outputExpanded": false,
        "jupyter": {
          "source_hidden": false,
          "outputs_hidden": false
        },
        "nteract": {
          "transient": {
            "deleting": false
          }
        },
        "execution": {
          "iopub.status.busy": "2020-05-09T01:30:15.658Z",
          "iopub.execute_input": "2020-05-09T01:30:15.671Z",
          "iopub.status.idle": "2020-05-09T01:30:16.673Z",
          "shell.execute_reply": "2020-05-09T01:30:16.694Z"
        }
      }
    },
    {
      "cell_type": "code",
      "source": [],
      "outputs": [],
      "execution_count": null,
      "metadata": {
        "collapsed": true,
        "outputExpanded": false,
        "jupyter": {
          "source_hidden": false,
          "outputs_hidden": false
        },
        "nteract": {
          "transient": {
            "deleting": false
          }
        }
      }
    },
    {
      "cell_type": "markdown",
      "source": [
        "# Determine the optimal number of clusters "
      ],
      "metadata": {
        "nteract": {
          "transient": {
            "deleting": false
          }
        }
      }
    },
    {
      "cell_type": "code",
      "source": [
        "# determine the optimal number of clusters \n",
        "\n",
        "# use the elbow method:\n",
        "\n",
        "    # Train multiple models\n",
        "    # Use different number of clusters for each model\n",
        "    # Store \"inertia_\" property (WCSS) for each instance\n",
        "    \n",
        "    # WCSS = Within Cluster Sum of Squares"
      ],
      "outputs": [],
      "execution_count": 35,
      "metadata": {
        "collapsed": true,
        "outputExpanded": false,
        "jupyter": {
          "source_hidden": false,
          "outputs_hidden": false
        },
        "nteract": {
          "transient": {
            "deleting": false
          }
        },
        "execution": {
          "iopub.status.busy": "2020-05-09T00:37:24.569Z",
          "iopub.execute_input": "2020-05-09T00:37:24.576Z",
          "iopub.status.idle": "2020-05-09T00:37:24.584Z",
          "shell.execute_reply": "2020-05-09T00:37:24.596Z"
        }
      }
    },
    {
      "cell_type": "code",
      "source": [
        "wcss = []\n",
        "\n",
        "for i in range(1, 11):\n",
        "    kmeans = KMeans(n_clusters=i, init='k-means++', max_iter=300, n_init=10, random_state=0)\n",
        "    kmeans.fit(df_SivamsData)\n",
        "    wcss.append(kmeans.inertia_)\n",
        "plt.plot(range(1, 11), wcss)\n",
        "plt.title('Elbow Method [for Optimal Cluster Number]')\n",
        "plt.xlabel('Number of clusters')\n",
        "plt.ylabel('WCSS')\n",
        "plt.show()"
      ],
      "outputs": [
        {
          "output_type": "display_data",
          "data": {
            "text/plain": [
              "<Figure size 432x288 with 1 Axes>"
            ],
            "image/png": "[encoded data removed]"
          },
          "metadata": {}
        }
      ],
      "execution_count": 140,
      "metadata": {
        "collapsed": true,
        "outputExpanded": false,
        "jupyter": {
          "source_hidden": false,
          "outputs_hidden": false
        },
        "nteract": {
          "transient": {
            "deleting": false
          }
        },
        "execution": {
          "iopub.status.busy": "2020-05-09T03:37:57.043Z",
          "iopub.execute_input": "2020-05-09T03:37:57.057Z",
          "iopub.status.idle": "2020-05-09T03:37:57.841Z",
          "shell.execute_reply": "2020-05-09T03:37:57.861Z"
        }
      }
    },
    {
      "cell_type": "code",
      "source": [
        "# Bend in the curve indicates the optimal number of clusters\n",
        "\n",
        "# number of clusters = either 2 or 3"
      ],
      "outputs": [],
      "execution_count": null,
      "metadata": {
        "collapsed": true,
        "outputExpanded": false,
        "jupyter": {
          "source_hidden": false,
          "outputs_hidden": false
        },
        "nteract": {
          "transient": {
            "deleting": false
          }
        }
      }
    },
    {
      "cell_type": "code",
      "source": [
        "#Source:\n",
        "\n",
        "# https://towardsdatascience.com/machine-learning-algorithms-part-9-k-means-example-in-python-f2ad05ed5203\\n\"\n",
        "\n",
        "# https://scikit-learn.org/stable/modules/generated/sklearn.cluster.KMeans.html\\n\""
      ],
      "outputs": [],
      "execution_count": null,
      "metadata": {
        "collapsed": true,
        "outputExpanded": false,
        "jupyter": {
          "source_hidden": false,
          "outputs_hidden": false
        },
        "nteract": {
          "transient": {
            "deleting": false
          }
        }
      }
    },
    {
      "cell_type": "markdown",
      "source": [
        "# Apply K-means clustering"
      ],
      "metadata": {
        "nteract": {
          "transient": {
            "deleting": false
          }
        }
      }
    },
    {
      "cell_type": "code",
      "source": [
        "from sklearn.cluster import KMeans\n",
        "import numpy as np\n",
        "\n",
        "kmeans = KMeans(n_clusters=3, random_state=0).fit(df_SivamsData)\n",
        "\n",
        "kmeans.labels_\n",
        "\n"
      ],
      "outputs": [
        {
          "output_type": "execute_result",
          "execution_count": 136,
          "data": {
            "text/plain": [
              "array([1, 1, 1, 1, 1, 1, 1, 1, 1, 1, 1, 1, 1, 1, 1, 2, 2, 2, 2, 2, 2, 2,\n",
              "       2, 2, 2, 2, 2, 2, 2, 2, 2, 2, 0, 0, 0, 0, 0, 0, 0, 0, 0, 0, 0, 0,\n",
              "       0, 0, 0, 0, 0])"
            ]
          },
          "metadata": {}
        }
      ],
      "execution_count": 136,
      "metadata": {
        "collapsed": true,
        "outputExpanded": false,
        "jupyter": {
          "source_hidden": false,
          "outputs_hidden": false
        },
        "nteract": {
          "transient": {
            "deleting": false
          }
        },
        "execution": {
          "iopub.status.busy": "2020-05-09T01:27:30.336Z",
          "iopub.execute_input": "2020-05-09T01:27:30.350Z",
          "iopub.status.idle": "2020-05-09T01:27:30.368Z",
          "shell.execute_reply": "2020-05-09T01:27:30.387Z"
        }
      }
    },
    {
      "cell_type": "code",
      "source": [
        "#kmeans.predict([[0, 0], [12, 3]])"
      ],
      "outputs": [],
      "execution_count": 69,
      "metadata": {
        "collapsed": true,
        "outputExpanded": false,
        "jupyter": {
          "source_hidden": false,
          "outputs_hidden": false
        },
        "nteract": {
          "transient": {
            "deleting": false
          }
        },
        "execution": {
          "iopub.status.busy": "2020-05-09T00:55:44.622Z",
          "iopub.execute_input": "2020-05-09T00:55:44.629Z",
          "iopub.status.idle": "2020-05-09T00:55:44.644Z",
          "shell.execute_reply": "2020-05-09T00:55:44.651Z"
        }
      }
    },
    {
      "cell_type": "code",
      "source": [
        "kmeans.cluster_centers_"
      ],
      "outputs": [
        {
          "output_type": "execute_result",
          "execution_count": 137,
          "data": {
            "text/plain": [
              "array([[ 62.13363075, -12.44991324],\n",
              "       [ 28.71475525, -10.47301101],\n",
              "       [ 44.96732067, -11.89890546]])"
            ]
          },
          "metadata": {}
        }
      ],
      "execution_count": 137,
      "metadata": {
        "collapsed": true,
        "outputExpanded": false,
        "jupyter": {
          "source_hidden": false,
          "outputs_hidden": false
        },
        "nteract": {
          "transient": {
            "deleting": false
          }
        },
        "execution": {
          "iopub.status.busy": "2020-05-09T01:27:31.952Z",
          "iopub.execute_input": "2020-05-09T01:27:31.959Z",
          "iopub.status.idle": "2020-05-09T01:27:31.976Z",
          "shell.execute_reply": "2020-05-09T01:27:31.984Z"
        }
      }
    },
    {
      "cell_type": "code",
      "source": [
        "fig1 = plt.figure(figsize=(10,8))\n",
        "\n",
        "plt.scatter(x, y)\n",
        "plt.scatter(kmeans.cluster_centers_[:, 0], kmeans.cluster_centers_[:, 1], s=300, c='red')\n",
        "plt.show()"
      ],
      "outputs": [
        {
          "output_type": "display_data",
          "data": {
            "text/plain": [
              "<Figure size 720x576 with 1 Axes>"
            ],
            "image/png": "[encoded data removed]"
          },
          "metadata": {}
        }
      ],
      "execution_count": 138,
      "metadata": {
        "collapsed": true,
        "outputExpanded": false,
        "jupyter": {
          "source_hidden": false,
          "outputs_hidden": false
        },
        "nteract": {
          "transient": {
            "deleting": false
          }
        },
        "execution": {
          "iopub.status.busy": "2020-05-09T01:27:34.219Z",
          "iopub.execute_input": "2020-05-09T01:27:34.229Z",
          "iopub.status.idle": "2020-05-09T01:27:34.638Z",
          "shell.execute_reply": "2020-05-09T01:27:34.694Z"
        }
      }
    },
    {
      "cell_type": "code",
      "source": [],
      "outputs": [],
      "execution_count": null,
      "metadata": {
        "collapsed": true,
        "outputExpanded": false,
        "jupyter": {
          "source_hidden": false,
          "outputs_hidden": false
        },
        "nteract": {
          "transient": {
            "deleting": false
          }
        }
      }
    }
  ],
  "metadata": {
    "kernel_info": {
      "name": "python3"
    },
    "language_info": {
      "name": "python",
      "version": "3.7.6",
      "mimetype": "text/x-python",
      "codemirror_mode": {
        "name": "ipython",
        "version": 3
      },
      "pygments_lexer": "ipython3",
      "nbconvert_exporter": "python",
      "file_extension": ".py"
    },
    "kernelspec": {
      "argv": [
        "C:/Users/Blue/Anaconda3\\python.exe",
        "-m",
        "ipykernel_launcher",
        "-f",
        "{connection_file}"
      ],
      "display_name": "Python 3",
      "language": "python",
      "name": "python3"
    },
    "nteract": {
      "version": "0.23.1"
    }
  },
  "nbformat": 4,
  "nbformat_minor": 0
}