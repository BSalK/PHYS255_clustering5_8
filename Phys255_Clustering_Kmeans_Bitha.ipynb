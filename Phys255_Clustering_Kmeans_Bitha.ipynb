{
  "cells": [
    {
      "cell_type": "code",
      "source": [
        "# Name: Bitha SK\n",
        "# PHYS 244 Github Clustering Assignment\n",
        "\n",
        "# Data source : pysc_data.txt from Shivam\n",
        "\n",
        "\n",
        "#......................................................\n",
        "# Description : \n",
        "\n",
        "# 1. Created a pandas dataframe\n",
        "# 2. Visualized the data with scatterplot\n",
        "# 3. Determiend optimal number of clusters, and \n",
        "#    Applied K-means clustering \n",
        "#......................................................\n"
      ],
      "outputs": [],
      "execution_count": null,
      "metadata": {
        "collapsed": true,
        "outputExpanded": false,
        "jupyter": {
          "source_hidden": false,
          "outputs_hidden": false
        },
        "nteract": {
          "transient": {
            "deleting": false
          }
        }
      }
    },
    {
      "cell_type": "code",
      "source": [
        "import pandas as pd\n",
        "import numpy as np\n",
        "import seaborn as sns; sns.set()\n",
        "\n",
        "import matplotlib.pylab as plt\n",
        "\n",
        "\n",
        "from sklearn.datasets.samples_generator import make_blobs\n",
        "from sklearn.cluster import KMeans"
      ],
      "outputs": [],
      "execution_count": 129,
      "metadata": {
        "collapsed": true,
        "outputExpanded": false,
        "jupyter": {
          "source_hidden": false,
          "outputs_hidden": false
        },
        "nteract": {
          "transient": {
            "deleting": false
          }
        },
        "execution": {
          "shell.execute_reply": "2020-05-09T01:25:40.627Z",
          "iopub.status.busy": "2020-05-09T01:25:40.598Z",
          "iopub.execute_input": "2020-05-09T01:25:40.607Z",
          "iopub.status.idle": "2020-05-09T01:25:40.618Z"
        }
      }
    },
    {
      "cell_type": "markdown",
      "source": [
        "# Create Pandas dataframe"
      ],
      "metadata": {
        "nteract": {
          "transient": {
            "deleting": false
          }
        }
      }
    },
    {
      "cell_type": "code",
      "source": [
        "columnNames = ['X','Y']"
      ],
      "outputs": [],
      "execution_count": 130,
      "metadata": {
        "collapsed": true,
        "outputExpanded": false,
        "jupyter": {
          "source_hidden": false,
          "outputs_hidden": false
        },
        "nteract": {
          "transient": {
            "deleting": false
          }
        },
        "execution": {
          "iopub.status.busy": "2020-05-09T01:25:46.234Z",
          "iopub.execute_input": "2020-05-09T01:25:46.241Z",
          "iopub.status.idle": "2020-05-09T01:25:46.253Z",
          "shell.execute_reply": "2020-05-09T01:25:46.261Z"
        }
      }
    },
    {
      "cell_type": "code",
      "source": [
        "df_SivamsData = pd.read_table('pysc_data.txt', sep = \",\",comment='#',header=0,names = columnNames) #delim_whitespace=True\n",
        "\n",
        "#'pysc_data.txt'\n",
        "#dataset_git.txt"
      ],
      "outputs": [],
      "execution_count": 131,
      "metadata": {
        "collapsed": true,
        "outputExpanded": false,
        "jupyter": {
          "source_hidden": false,
          "outputs_hidden": false
        },
        "nteract": {
          "transient": {
            "deleting": false
          }
        },
        "execution": {
          "shell.execute_reply": "2020-05-09T01:25:47.341Z",
          "iopub.status.busy": "2020-05-09T01:25:47.309Z",
          "iopub.execute_input": "2020-05-09T01:25:47.320Z",
          "iopub.status.idle": "2020-05-09T01:25:47.333Z"
        }
      }
    },
    {
      "cell_type": "code",
      "source": [
        "df_SivamsData.head()"
      ],
      "outputs": [
        {
          "output_type": "execute_result",
          "execution_count": 132,
          "data": {
            "text/plain": [
              "           X          Y\n",
              "0  21.834044  -9.174932\n",
              "1  23.440649 -10.008110\n",
              "2  23.000229  -8.533631\n",
              "3  24.604665  -9.996657\n",
              "4  25.293512 -10.086594"
            ],
            "text/html": [
              "<div>\n",
              "<style scoped>\n",
              "    .dataframe tbody tr th:only-of-type {\n",
              "        vertical-align: middle;\n",
              "    }\n",
              "\n",
              "    .dataframe tbody tr th {\n",
              "        vertical-align: top;\n",
              "    }\n",
              "\n",
              "    .dataframe thead th {\n",
              "        text-align: right;\n",
              "    }\n",
              "</style>\n",
              "<table border=\"1\" class=\"dataframe\">\n",
              "  <thead>\n",
              "    <tr style=\"text-align: right;\">\n",
              "      <th></th>\n",
              "      <th>X</th>\n",
              "      <th>Y</th>\n",
              "    </tr>\n",
              "  </thead>\n",
              "  <tbody>\n",
              "    <tr>\n",
              "      <th>0</th>\n",
              "      <td>21.834044</td>\n",
              "      <td>-9.174932</td>\n",
              "    </tr>\n",
              "    <tr>\n",
              "      <th>1</th>\n",
              "      <td>23.440649</td>\n",
              "      <td>-10.008110</td>\n",
              "    </tr>\n",
              "    <tr>\n",
              "      <th>2</th>\n",
              "      <td>23.000229</td>\n",
              "      <td>-8.533631</td>\n",
              "    </tr>\n",
              "    <tr>\n",
              "      <th>3</th>\n",
              "      <td>24.604665</td>\n",
              "      <td>-9.996657</td>\n",
              "    </tr>\n",
              "    <tr>\n",
              "      <th>4</th>\n",
              "      <td>25.293512</td>\n",
              "      <td>-10.086594</td>\n",
              "    </tr>\n",
              "  </tbody>\n",
              "</table>\n",
              "</div>"
            ]
          },
          "metadata": {}
        }
      ],
      "execution_count": 132,
      "metadata": {
        "collapsed": true,
        "outputExpanded": false,
        "jupyter": {
          "source_hidden": false,
          "outputs_hidden": false
        },
        "nteract": {
          "transient": {
            "deleting": false
          }
        },
        "execution": {
          "iopub.status.busy": "2020-05-09T01:25:49.506Z",
          "iopub.execute_input": "2020-05-09T01:25:49.514Z",
          "iopub.status.idle": "2020-05-09T01:25:49.535Z",
          "shell.execute_reply": "2020-05-09T01:25:49.542Z"
        }
      }
    },
    {
      "cell_type": "code",
      "source": [
        "x = df_SivamsData['X']\n",
        "y = df_SivamsData['Y']\n"
      ],
      "outputs": [],
      "execution_count": 133,
      "metadata": {
        "collapsed": true,
        "outputExpanded": false,
        "jupyter": {
          "source_hidden": false,
          "outputs_hidden": false
        },
        "nteract": {
          "transient": {
            "deleting": false
          }
        },
        "execution": {
          "iopub.status.busy": "2020-05-09T01:25:51.561Z",
          "iopub.execute_input": "2020-05-09T01:25:51.569Z",
          "iopub.status.idle": "2020-05-09T01:25:51.581Z",
          "shell.execute_reply": "2020-05-09T01:25:51.588Z"
        }
      }
    },
    {
      "cell_type": "markdown",
      "source": [
        "# Visualize data"
      ],
      "metadata": {
        "nteract": {
          "transient": {
            "deleting": false
          }
        }
      }
    },
    {
      "cell_type": "code",
      "source": [
        "fig1 = plt.figure(figsize=(10,8))\n",
        "sns.scatterplot(df_SivamsData['X'],df_SivamsData['Y'])\n",
        "\n",
        "plt.show()"
      ],
      "outputs": [
        {
          "output_type": "display_data",
          "data": {
            "text/plain": [
              "<Figure size 720x576 with 1 Axes>"
            ],
            "image/png": [
              "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\n"
            ]
          },
          "metadata": {}
        }
      ],
      "execution_count": 134,
      "metadata": {
        "collapsed": true,
        "outputExpanded": false,
        "jupyter": {
          "source_hidden": false,
          "outputs_hidden": false
        },
        "nteract": {
          "transient": {
            "deleting": false
          }
        },
        "execution": {
          "iopub.status.busy": "2020-05-09T01:25:53.003Z",
          "iopub.execute_input": "2020-05-09T01:25:53.011Z",
          "iopub.status.idle": "2020-05-09T01:25:53.380Z",
          "shell.execute_reply": "2020-05-09T01:25:53.399Z"
        }
      }
    },
    {
      "cell_type": "code",
      "source": [
        "# Create kde plot"
      ],
      "outputs": [],
      "execution_count": null,
      "metadata": {
        "collapsed": true,
        "outputExpanded": false,
        "jupyter": {
          "source_hidden": false,
          "outputs_hidden": false
        },
        "nteract": {
          "transient": {
            "deleting": false
          }
        }
      }
    },
    {
      "cell_type": "code",
      "source": [
        "ax = sns.kdeplot(x, y, shade=True)"
      ],
      "outputs": [
        {
          "output_type": "display_data",
          "data": {
            "text/plain": [
              "<Figure size 432x288 with 1 Axes>"
            ],
            "image/png": [
              "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\n"
            ]
          },
          "metadata": {}
        }
      ],
      "execution_count": 139,
      "metadata": {
        "collapsed": true,
        "outputExpanded": false,
        "jupyter": {
          "source_hidden": false,
          "outputs_hidden": false
        },
        "nteract": {
          "transient": {
            "deleting": false
          }
        },
        "execution": {
          "iopub.status.busy": "2020-05-09T01:30:15.658Z",
          "iopub.execute_input": "2020-05-09T01:30:15.671Z",
          "iopub.status.idle": "2020-05-09T01:30:16.673Z",
          "shell.execute_reply": "2020-05-09T01:30:16.694Z"
        }
      }
    },
    {
      "cell_type": "code",
      "source": [],
      "outputs": [],
      "execution_count": null,
      "metadata": {
        "collapsed": true,
        "outputExpanded": false,
        "jupyter": {
          "source_hidden": false,
          "outputs_hidden": false
        },
        "nteract": {
          "transient": {
            "deleting": false
          }
        }
      }
    },
    {
      "cell_type": "markdown",
      "source": [
        "# Determine the optimal number of clusters "
      ],
      "metadata": {
        "nteract": {
          "transient": {
            "deleting": false
          }
        }
      }
    },
    {
      "cell_type": "code",
      "source": [
        "# determine the optimal number of clusters \n",
        "\n",
        "# use the elbow method:\n",
        "\n",
        "    # Train multiple models\n",
        "    # Use different number of clusters for each model\n",
        "    # Store \"inertia_\" property (WCSS) for each instance\n",
        "    # WCSS = Within Cluster Sum of Squares\n"
      ],
      "outputs": [],
      "execution_count": 35,
      "metadata": {
        "collapsed": true,
        "outputExpanded": false,
        "jupyter": {
          "source_hidden": false,
          "outputs_hidden": false
        },
        "nteract": {
          "transient": {
            "deleting": false
          }
        },
        "execution": {
          "iopub.status.busy": "2020-05-09T00:37:24.569Z",
          "iopub.execute_input": "2020-05-09T00:37:24.576Z",
          "iopub.status.idle": "2020-05-09T00:37:24.584Z",
          "shell.execute_reply": "2020-05-09T00:37:24.596Z"
        }
      }
    },
    {
      "cell_type": "code",
      "source": [
        "wcss = []\n",
        "\n",
        "for i in range(1, 11):\n",
        "    kmeans = KMeans(n_clusters=i, init='k-means++', max_iter=300, n_init=10, random_state=0)\n",
        "    kmeans.fit(df_SivamsData)\n",
        "    wcss.append(kmeans.inertia_)\n",
        "plt.plot(range(1, 11), wcss)\n",
        "plt.title('Elbow Method [for Optimal Cluster Number]')\n",
        "plt.xlabel('Number of clusters')\n",
        "plt.ylabel('WCSS')\n",
        "plt.show()"
      ],
      "outputs": [
        {
          "output_type": "display_data",
          "data": {
            "text/plain": [
              "<Figure size 432x288 with 1 Axes>"
            ],
            "image/png": [
              "iVBORw0KGgoAAAANSUhEUgAAAZMAAAEXCAYAAABoPamvAAAABHNCSVQICAgIfAhkiAAAAAlwSFlzAAALEgAACxIB0t1+/AAAADh0RVh0U29mdHdhcmUAbWF0cGxvdGxpYiB2ZXJzaW9uMy4xLjMsIGh0dHA6Ly9tYXRwbG90bGliLm9yZy+AADFEAAAgAElEQVR4nO3de3xU9Z3/8deZzOQCCQMJExIHBCQUd0FBCdYoBsHKLUQwKxbhB2jXUm8VtVAjsFAsFC/UuGpj+9jabtc7LpJUiBEsFsUgN7WIQBcQIpeQTMItCbnN5fdHyJABg0CSmUzm/Xw8fGTOd86c+ZyvwDvne875HsPj8XgQERFpBlOgCxARkeCnMBERkWZTmIiISLMpTEREpNkUJiIi0mwKExERaTaFiYS0fv36kZ6ezvjx433+O3jwIBs3bmTcuHEAZGZm8sorr7RqLRs3bqRfv348/vjj57w3depUrrnmmu/dxrZt25g/f753ew31X6qjR4/Sr1+/Zm1DQoM50AWIBNpf/vIXYmNjz2k/dOiQ32ux2Wx89NFHVFVVERUV5a1j3759F/T5PXv2UFxc3JolinwnHZmIXKCtW7dy5513MnbsWBYvXozT6QRgy5Yt3HnnnaSnp5ORkcHHH3+My+Xi+uuvp7CwEIA//OEPDB8+3Lutu+++m3Xr1p3zHZ07d2bw4MF8+OGH3racnBzS09N91nvnnXfIyMhgwoQJ3H333ezdu5eioiJeeOEFtmzZwhNPPAHAqVOnePTRRxk/fjyjR49my5YtAJSXlzNr1izGjRtHeno6zzzzjHd/Vq9ezZgxY8jIyOD5559vwR6U9kxhIiFv+vTpPkNcDz744Heud+TIEf77v/+bnJwcdu3axbJlyzh27BgPP/wwc+fO5b333uPpp59m9uzZHD58mOHDh/PJJ58A8Mknn1BXV8e+ffsoLy9n165dpKSkfOf3TJgwgdzcXO/y+++/7zNctWnTJnJycnj99dfJycnh3nvv5aGHHiIxMZGHH36Y5ORklixZ4q357rvvJjc3l0mTJvHiiy8CsGjRIjp37sx7773H8uXL+ec//8mf/vQnSktLmTNnDi+++CLvvvsudru9RfpY2j8Nc0nIa2qY62zjx4+nQ4cOANx2222sW7cOu93O5ZdfzsCBAwHo27cv1157LZs2beLWW2/lrbfeYsKECTgcDsaNG0dBQQFWq5WbbrqJ8PDw7/ye4cOH86tf/YrS0lIKCwu54oorsFqt3vf//ve/U1hYyKRJk7xtJ0+e5Pjx4+dsq0ePHt7arrzySpYvXw7Axx9/zJtvvolhGISHhzNp0iT+8pe/0LNnT37wgx+QlJQEwI9//GOee+65C+lGCXEKE5ELFBYW5n3t8Xgwm824XC4Mw/BZz+Px4HQ6ufHGG5k3bx7r1q3jhz/8ITfccANvvvkmUVFRjB07tsnvCQ8PZ+TIkaxatYo9e/Zw++23+7zvdrsZP348s2fP9i6XlJT4BE4Di8XifW0YBg1T8bndbp+63W63d5ir8XR9ZrP+iZALo2EukQu0atUqamtrqampYcWKFaSmpjJo0CC++eYbtm3bBsDu3bvZvHkz1113HREREQwZMoSXXnqJG2+8keuuu44vv/ySLVu2cNNNN533uyZMmMCKFSvYvHnzOesOHTqUVatWUVJSAsCbb77J9OnTgfrAawiF8xk6dCivvfYaHo+H2tpali1bxg033MCQIUPYs2cPu3btAuDdd9+96H6S0KRfOyTkTZ8+HZPJ9/eqxx57jMjISJ+27t27M3nyZCorK7n11lu5/fbbMQyD//zP/+TXv/411dXVGIbBkiVL6N27NwC33norq1ev5vrrrycyMpIrr7wSq9VKRETEeWu65pprqKqqYsSIEeccHQwdOpSf/vSn/OQnP8EwDKKjo3nppZcwDINBgwbxu9/9joceeoipU6c2uf158+axaNEi0tPTqaur46abbuK+++4jPDycpUuXMmvWLCwWC0OGDLmYrpQQZmgKehERaS4Nc4mISLMpTEREpNkUJiIi0mwKExERaTaFiYiINJvCREREmi1k7zM5dqwStzt4r4qOi4umrKwi0GW0GeoPX+qPM9QXvi61P0wmgy5dOjb5fsiGidvtCeowAYK+/pam/vCl/jhDfeGrNfpDw1wiItJsChMREWk2hYmIiDSbwkRERJqtVcOkoqKCcePGcfDgQQAKCgpIT09n5MiRZGVledfbuXMnGRkZjBo1irlz53qn0D58+DBTpkxh9OjR3H///VRWVgL1DwKaMWMGY8aMYcqUKTgcjtbcDRER+R6tFib/+Mc/uOuuu9i/fz8A1dXVzJkzh+zsbPLy8ti+fbv3GdizZ89m/vz5fPDBB3g8HpYtWwbAwoULmTx5Mvn5+QwYMIDs7GwAnn/+eZKTk3n//feZOHEiixcvbq3dEBGRC9BqYbJs2TIWLFhAfHw8ANu2baNnz5706NEDs9lMeno6+fn5HDp0iOrqagYNGgRARkYG+fn51NXVsXnzZkaNGuXTDvWPLU1PTwdg3LhxfPzxx9TV1bXWrnhVVNUxO7uAgyW6Zl1EpLFWu8/k7KOFkpISbDabdzk+Pp7i4uJz2m02G8XFxRw7dozo6Gjvg4Ea2s/eltlsJjo6mqNHj9KtW7fW2h0ATAaUnazmiz2ldI+PbtXvEhEJJn67afHsZ057PB4Mw2iyveFnY2cvN/7M2U/K+z5xcZcWBpcnxPBtSQU2W8wlfb4ltYUa2hL1hy/1xxnqC1+t0R9+C5OEhASfE+UOh4P4+Phz2ktLS4mPjyc2Npby8nJcLhdhYWHe9aH+qKa0tJSEhAScTieVlZV07tz5ouopK6u4pLtAe3WLYcuuEopLTmJqItz8wWaLweEoD9j3tzXqD1/qjzPUF74utT9MJuO8v4T77dLggQMHsm/fPgoLC3G5XKxcuZLU1FTsdjsRERFs3boVgNzcXFJTU7FYLCQnJ5OXlwdATk4OqampAAwbNoycnBwA8vLySE5OxmKx+GU/kuxWTtU4KSo75ZfvExEJBn47MomIiOCpp57i5z//OTU1NQwbNozRo0cDsHTpUubNm0dFRQX9+/dn2rRpACxYsIDMzExefvllEhMTee655wCYOXMmmZmZpKWlERMTw9KlS/21G/TtbgVg76ET2Ls2PemZiEgoMTweT0jOgHapw1wej4eZL6xnUFJXfpL2L61Q2YXRobsv9Ycv9ccZ6gtfQT/M1V4YhkGS3cruQycCXYqISJuhMLkESd2tFB89Rfmp2kCXIiLSJihMLkGSveG8yckAVyIi0jYoTC5Br4QYwkwGezTUJSICKEwuSbgljJ4JMew5eDzQpYiItAkKk0uUZLey70g5Tpc70KWIiAScwuQSJdmt1DndfFusSR9FRBQml6jP6ZPwOm8iIqIwuWRdYiLoao3UeRMRERQmzZJkt7Ln0AlCdBIBEREvhUkz9LFbOV5RS9nJ6kCXIiISUAqTZmiY9FHnTUQk1ClMmsFu60hEeBh7D+pOeBEJbQqTZggzmbgisRO7D+kkvIiENoVJMyXZrRwoqaC61hnoUkREAkZh0kxJ3a14PLDvsIa6RCR0KUyaqc9lnTDQSXgRCW0Kk2bqEGnhMltHPSxLREKawqQFJNmt7D10ErduXhSREKUwaQFJditVNU6KSisDXYqISEAoTFpAkm5eFJEQpzBpAfGdo4jpYGHPQYWJiIQmhUkLMAzDO+mjiEgoUpi0kCS7leJjVZw8VRvoUkRE/E5h0kIaHpa1V0cnIhKCFCYtpHdiDGEmQ0NdIhKSFCYtxGIOo1dCjE7Ci0hIUpi0oD52K/uKynG63IEuRUTErxQmLSjJbsXpclNYXB7oUkRE/Eph0oIabl7cq6EuEQkxCpMW1Dk6gq7WSE36KCIhJyBhkpubS1paGmlpaTz99NMA7Ny5k4yMDEaNGsXcuXNxOusfNnX48GGmTJnC6NGjuf/++6msrJ//6uTJk8yYMYMxY8YwZcoUHA5HIHblHEndrew5eAKPJn0UkRDi9zCpqqpi8eLFvPrqq+Tm5rJlyxYKCgqYPXs28+fP54MPPsDj8bBs2TIAFi5cyOTJk8nPz2fAgAFkZ2cD8Pzzz5OcnMz777/PxIkTWbx4sb935Tsl2a2cqKyl7ER1oEsREfEbv4eJy+XC7XZTVVWF0+nE6XRiNpuprq5m0KBBAGRkZJCfn09dXR2bN29m1KhRPu0Af//730lPTwdg3LhxfPzxx9TV1fl7d86RZNekjyISevweJtHR0cycOZMxY8YwbNgw7HY7FosFm83mXcdms1FcXMyxY8eIjo7GbDb7tAOUlJR4P2M2m4mOjubo0aP+3p1zdLdFExEepvMmIhJSzP7+wl27drF8+XI++ugjYmJimDVrFp9++imGYXjX8Xg8GIbh/dnY2cuNP2MyXXg2xsVFX9oOXIB/6RlL4ZEKbLaYVvsOoNW3H2zUH77UH2eoL3y1Rn/4PUzWr19PSkoKcXFxQP3Q1SuvvOJzAr20tJT4+HhiY2MpLy/H5XIRFhaGw+EgPj4egPj4eEpLS0lISMDpdFJZWUnnzp0vuI6ysgrc7tY5SX55fEfeK3Dw7cFjREW0ThfbbDE4HLqfpYH6w5f64wz1ha9L7Q+TyTjvL+F+H+a68sorKSgo4NSpU3g8HtauXct1111HREQEW7duBeqv9kpNTcVisZCcnExeXh4AOTk5pKamAjBs2DBycnIAyMvLIzk5GYvF4u/d+U5JdiseD+wrOhnoUkRE/MLvRyZDhw5lx44dZGRkYLFYuOqqq5gxYwa33nor8+bNo6Kigv79+zNt2jQAFixYQGZmJi+//DKJiYk899xzAMycOZPMzEzS0tKIiYlh6dKl/t6VJl1xmRWD+pPw/9orNtDliIi0OsMTojdEtOYwF8D8VzbSOTqCx348qFW2r0N3X+oPX+qPM9QXvtrNMFeoSLJb2Xv4BO7QzGoRCTEKk1bSx26lqsbF4dLKQJciItLqFCatpGHSR928KCKhQGHSSuI7R9Gpg0UPyxKRkKAwaSWGYdDHbtWRiYiEBIVJK0rqbqXkWBUnK2sDXYqISKtSmLSihkkf9+roRETaOYVJK+qVEIM5zNBQl4i0ewqTVmQxh9EzIUYzCItIu6cwaWVJdiv7i8qpc7oDXYqISKtRmLSyJLsVp8vNt8WazkFE2i+FSSvTkxdFJBQoTFqZNToCW+dI3bwoIu2awsQPkk7fvBiiEzSLSAhQmPhBkt3KicpaSk9UB7oUEZFWoTDxgz46byIi7ZzCxA+626KJDA/TeRMRabcUJn5gMhn0uayTjkxEpN1SmPhJH7uVg44KqmqcgS5FRKTFKUz8JKm7FY8Hvik6GehSRERanMLET65ItGIAe3XeRETaIYWJn3SINGO3RWvSRxFplxQmfpTU3co3h0/gduvmRRFpXxQmfpRk70RVjYvDpZWBLkVEpEUpTPxIkz6KSHulMPEjW+coOnUMZ7dOwotIO6Mw8SPDMEiyW/VMeBFpdxQmfpZkt1JyvIoTlbWBLkVEpMUoTPys4byJjk5EpD1RmPhZz4RozGGGJn0UkXZFYeJnFnMYvRI06aOItC8BCZO1a9eSkZHBmDFjWLRoEQAFBQWkp6czcuRIsrKyvOvu3LmTjIwMRo0axdy5c3E66ydKPHz4MFOmTGH06NHcf//9VFYGz70bSXYr+4+cpM7pDnQpIiItwu9hcuDAARYsWEB2djZ//etf2bFjB+vWrWPOnDlkZ2eTl5fH9u3bWbduHQCzZ89m/vz5fPDBB3g8HpYtWwbAwoULmTx5Mvn5+QwYMIDs7Gx/78ol62O34nR5KCwuD3QpIiItwu9hsmbNGsaOHUtCQgIWi4WsrCyioqLo2bMnPXr0wGw2k56eTn5+PocOHaK6uppBgwYBkJGRQX5+PnV1dWzevJlRo0b5tAeLpO6nb17UeRMRaSfM/v7CwsJCLBYL9913H0VFRdx888307dsXm83mXSc+Pp7i4mJKSkp82m02G8XFxRw7dozo6GjMZrNP+8WIi4tumR26BDYbJMZ15EBpJTZbTDO2c+mfbY/UH77UH2eoL3y1Rn/4PUxcLhdbtmzh1VdfpUOHDtx///1ERkZiGIZ3HY/Hg2EYuN3u72xv+NnY2cvfp6ysIqATLvZKiOHrb8ooKTl50bVD/R8Gh0PDZA3UH77UH2eoL3xdan+YTMZ5fwn3+zBX165dSUlJITY2lsjISH70ox9RUFCAw+HwruNwOIiPjychIcGnvbS0lPj4eGJjYykvL8flcvmsH0ySuls5WVmL40R1oEsREWm284aJx+PxXj1VUVHB6tWr2b9/f7O+cPjw4axfv56TJ0/icrn45JNPGD16NPv27aOwsBCXy8XKlStJTU3FbrcTERHB1q1bAcjNzSU1NRWLxUJycjJ5eXkA5OTkkJqa2qy6/M1786LOm4hIO9DkMNeePXuYMWMG//Ef/0FKSgoTJ04E6kPlqaee4sYbb7ykLxw4cCD33nsvkydPpq6ujhtvvJG77rqLK664gp///OfU1NQwbNgwRo8eDcDSpUuZN28eFRUV9O/fn2nTpgGwYMECMjMzefnll0lMTOS55567pHoCxd61I1ERYew+dIKUAQmBLkdEpFkMj8fznScOZsyYwbhx47jttttYvnw5f/zjH1m1ahXFxcU8+uijvPXWW/6utUUF+pwJwG/f/pITFbU8+e/XXfRnNQ7sS/3hS/1xhvrCl9/PmRQVFXHbbbcBsHHjRm655RZMJhOJiYlUVFRcdCFyriS7lUOOCqpqnIEuRUSkWZoME5PpzFtffPEFQ4YM8S7X1NS0blUhIsluxQN8c/hkoEsREWmWJs+ZWK1Wdu3aRUVFBQ6Hwxsmn3/+Od26dfNbge3ZFZd1wjBg98Hj9O8dG+hyREQuWZNh8thjj3H33XdTUVHBrFmz6NChA6+88gq///3v+d3vfufPGtutqAgz3W3Rmo5eRIJek2EyaNAgPv74Y6qrq+nUqRMA11xzDe+88w69evXyV33tXpLdyoavj+B2ezCZLv7mRRGRtuC895lYLBY6dOgA1F8SXFpa6peiQkmS3Up1rYtDpcEz67GIyNmaDJM9e/Zwyy238Mknn1BdXc3EiRPJyspi6tSpfPrpp/6ssV3r0zDpo4a6RCSINRkmzzzzDI888gjDhw9n1apVAKxatYply5bx4osv+q3A9s5mjaRTx3D2HDwe6FJERC6Z7jMJMMMw6Gu36shERIKa7jNpA/rYrTiOV3OiQv0qIsFJ95m0Ad6HZR06yeB+tu9ZW0Sk7dF9Jm1Az24xmMNM7Dl0XGEiIkFJ95m0ARaziV6JMTpvIiJB67z3mVRWVlJXV+ddrqmp8QaLtKwku5XCI+XUOV2BLkVE5KI1GSa7d+9mzJgxfP755962NWvWcNttt/HNN9/4pbhQkmS34nR5KDyiK+VEJPg0GSa//e1vmTt3Lrfeequ3bf78+Tz22GM8++yzfikulPQ5/eTF3Yd0v4mIBJ8mw+Tw4cOkp6ef056RkcGBAwdatahQZO0YTnznKPboMb4iEoSaDJOwsLAmP2SxWFqlmFCX1N3K3kMnaOLhlyIibVaTYRIXF8fOnTvPad+xYwdRUVGtWlSoSrJbOXmqDsfxqkCXIiJyUZq8NPiBBx7ggQce4MEHH+Saa67B4/HwxRdfkJ2dzaJFi/xZY8hIsp+Z9DG+S4cAVyMicuGaDJMf/OAHPPvss7zwwgv85je/wWQyMWjQIJ599lmSk5P9WWPIuKxrR6Iiwthz8AQ3DEgMdDkiIhesyTBJSUlh8ODBjBgxgoULF9K7d29/1hWSTCaDPpdp0kcRCT5Nhsm6dev47LPP2LBhA6+99homk4lhw4Zx8803c9111+kkfCtJslvJXb+PU9VOOkQ2+b9HRKRNafJfq9jYWMaOHcvYsWMBOHToEAUFBTz77LMUFhbyxRdf+K3IUNKnuxUP8E3RCQb0jgt0OSIiF+R7f/U9cOAAa9eu5dNPP2XHjh3079+fO++80x+1haQrEjthGLDnoMJERIJHk2GSlZXF2rVrqays5KabbmLy5MmkpKQQERHhz/pCTlSEme62aJ03EZGg0mSY/OEPf2DEiBHMmDGDQYMG+bOmkJfU3UrB9iO43R5MJiPQ5YiIfK8mb1rMz89nyJAh/Pa3v+Wmm24iMzOT/Px8PbLXD5LsVmpqXRx0qK9FJDg0GSa9evXinnvu4dVXX2XVqlUMHTqUNWvWkJaWxj333OPPGkNO45sXRUSCwXmfZ9Lg8OHDHD16lNraWiwWi8/z4aXldbVGYu0YrjARkaDR5DmTV199lY0bN7J582asViupqanccccd/PCHPyQyMrLZX/z0009z7NgxnnrqKXbu3MncuXOprKwkOTmZhQsXYjabOXz4MLNnz6asrIzevXuzdOlSOnbsyMmTJ5k1axYHDhwgNjaW559/Hput/Tzu1jAMkrpbNYOwiASNJg8x1q1bx3XXXcfbb7/N6tWrmTdvHsOGDWuRINmwYQMrVqzwLs+ePZv58+fzwQcf4PF4WLZsGQALFy5k8uTJ5OfnM2DAALKzswF4/vnnSU5O5v3332fixIksXry42TW1NUl2K6UnqjleURPoUkREvleTYfLHP/6RadOmtfjz3o8fP05WVhb33XcfUH8zZHV1tfeKsYyMDPLz86mrq2Pz5s2MGjXKpx3g73//u/dZK+PGjePjjz/2ebxwe9Bw3mSvhrpEJAj4/eTH/PnzefTRR73Pki8pKfEZorLZbBQXF3Ps2DGio6Mxm80+7Wd/xmw2Ex0dzdGjR/28J63r8m4xmMNM7NZQl4gEAb9O/vTOO++QmJhISkoK7777LgButxvDOHMvhcfjwTAM78/Gzl5u/JmLvSggLi76Iqv3v749OlNYUoHNFvOd7zfVHqrUH77UH2eoL3y1Rn/4NUzy8vJwOByMHz+eEydOcOrUKQzDwOFweNcpLS0lPj6e2NhYysvLcblchIWF4XA4iI+PByA+Pp7S0lISEhJwOp1UVlbSuXPni6qlrKwCt7ttP9GwV7doVm8+wOGi41jMvk++tNlicDjKA1RZ26P+8KX+OEN94etS+8NkMs77S7hfh7n+/Oc/s3LlSnJzc3n44YcZMWIES5YsISIigq1btwKQm5tLamoqFouF5ORk8vLyAMjJySE1NRWAYcOGkZOTA9QHVHJycrucxTjJbsXl9rD/iP4iiEjb1iZuGFm6dClLlixh9OjRnDp1imnTpgGwYMECli1bxtixY9myZQuPPPIIADNnzuTLL78kLS2NN954g/nz5wey/FbTp+HmRZ03EZE2zvB4PG17rKeVBMMwF0DmHzZg79qRn//b1T7tOnT3pf7wpf44Q33hq10Mc8nF62uvf/JiiGa+iAQJhUkb16e7lfJTdZQcrwp0KSIiTVKYtHFJOm8iIkFAYdLGXda1I1ERYZr0UUTaNIVJG2cyDPpcZlWYiEibpjAJAkndrRx2VHKqun3NPyYi7YfCJAgk2a14gG8Onwx0KSIi30lhEgR6J3bCMNCkjyLSZilMgkBUhJketmidNxGRNkthEiSSulv5pugkLrc70KWIiJxDYRIkkuxWampdHHJUBroUEZFzKEyCRMPNizpvIiJtkcIkSMRZI7FGh+sxviLSJilMgoRhGCTZdfOiiLRNCpMg0tdupfRENcfKawJdioiID4VJEOnTvf68iYa6RKStUZgEkZ7dYjCHmTTUJSJtjsIkiJjDTPROjFGYiEibozAJMkndrRQeKaemzhXoUkREvBQmQSbJbsXl9rDnwPFAlyIi4qUwCTJ9Tt+8uHP/0QBXIiJyhsIkyHTqEE63LlHsUpiISBuiMAlCSXYrO/cfxePxBLoUERFAYRKU/qVXF05W1vLamv/TLMIi0iaYA12AXLzr+ydwrLKO5R/tofR4NfeN709UhP5Xikjg6MgkCJkMg7vH9Wfa6H58ve8oS177nKMnqwNdloiEMIVJELt5kJ1H7ryaspNV/Pp/tlB4pDzQJYlIiFKYBLkBveN44v8NxmwyWPL6Vr7Y7Qh0SSISghQm7UB3WzTzpiVj79qRl5Z/xZrNB3Sll4j4lcKknbBGR/DLyddyzQ9svPm33byuK71ExI8UJu1IhCWMB24fwOjrLmft54d4cflXVNU4A12WiISAgITJSy+9RFpaGmlpaTzzzDMAFBQUkJ6ezsiRI8nKyvKuu3PnTjIyMhg1ahRz587F6az/x/Hw4cNMmTKF0aNHc//991NZWRmIXWlzTIbBnSOSmDaqH9u/OcpTr+tKLxFpfX4Pk4KCAtavX8+KFSvIycnh66+/ZuXKlcyZM4fs7Gzy8vLYvn0769atA2D27NnMnz+fDz74AI/Hw7JlywBYuHAhkydPJj8/nwEDBpCdne3vXWnTbr7GziMTr8ZxvIpFutJLRFqZ38PEZrORmZlJeHg4FouFPn36sH//fnr27EmPHj0wm82kp6eTn5/PoUOHqK6uZtCgQQBkZGSQn59PXV0dmzdvZtSoUT7t4mvAFXHMmTqYsNNXen25uzTQJYlIO+X3MOnbt683HPbv38/777+PYRjYbDbvOvHx8RQXF1NSUuLTbrPZKC4u5tixY0RHR2M2m33a5VwNV3pdFteRF5dvY82WA4EuSUTaoYDNwbF7925+9rOf8ctf/pKwsDD279/vfc/j8WAYBm63G8Mwzmlv+NnY2cvfJy4uuln1twU2W8wFr/fszFSee+Nz3vxwN+VVTu4dP4CwsPZ1/cWF9keoUH+cob7w1Rr9EZAw2bp1Kw8//DBz5swhLS2NTZs24XCcudnO4XAQHx9PQkKCT3tpaSnx8fHExsZSXl6Oy+UiLCzMu/7FKCurwO0O3nsxbLYYHI6LOw/y72OvxBplYeWn+/j2yEl+dlv7mdPrUvqjPVN/nKG+8HWp/WEyGef9Jdzvv5oWFRXx4IMPsnTpUtLS0gAYOHAg+/bto7CwEJfLxcqVK0lNTcVutxMREcHWrVsByM3NJTU1FYvFQnJyMnl5eQDk5OSQmprq710JOg1Xek3VlV4i0sIMjxFjOWUAABKWSURBVJ9vlV60aBHLly/n8ssv97ZNmjSJXr16sWTJEmpqahg2bBhPPPEEhmGwa9cu5s2bR0VFBf3792fJkiWEh4dz6NAhMjMzKSsrIzExkeeeew6r1XrBdYTikUlj278pIztnO5HhYcy8YyA9E4J7GEC/ffpSf5yhvvDVWkcmfg+TtiLUwwTgYEkFz//vP6iscvKz8f0ZlNS1harzP/2D4Uv9cYb6wle7GeaStqN7fP2VXolxHXSll4g0i8IkxHWOjuDxydcyKKkrb35YP6dXMB+xiUhgKEyEiPAwHrz9KkZd14O/bT3Ii8u3UV2rOb1E5MIpTASoHw/98Yi+TB3Vj6++OcpTr33OsfKaQJclIkFCYSI+hl9jZ+bEqyk5PafXt8U6cSki309hIue46oo45vy/wRgGLHntc77cozm9ROT8FCbynRqu9Eo4faXX37YeDHRJItKGKUykSZ2jI8g8faXX62v+jzd0pZeINEFhIufVcKXXyCE9+HDrQV569ytd6SUi51CYyPcymQwm3dKXqSN/wD/2lvLU67rSS0R8KUzkgg2/tjsz7xhI8TFd6SUivhQmclGu7hPHE1OuBWDJ65+zaWcxdU53gKsSkUBrHw+zEL+6vFsM86Yl88L/buP3uV8TbjHRr0cX+veOpX/vWC6L63DRDysTkeCmMJFL0iUmgjlTB/P1vqN8ve8o2/cf5au/7fa+179XLP/auwv/2iuWTh3CA1ytiLQ2hYlcMovZxKC+XRnUt37q+tITVezYf4zt+47yxW4H678qAqBntxjvUUuS3YrFrNFVkfZGYSItpqs1itSBUaQOvAy328P+I+V8vb/+yOWDTd+S91mhhsRE2imFibQKk8ngiss6ccVlnUi/oRdVNU7+eeC4d1jsrdNDYp2jw73BoiExkeClMBG/iIowMyipq/dpjg1DYl/vO8qXu0v59KsjQP2Q2L/27sKAXrEkde+sITGRIKEwkYA4e0issLic7aePWlZvOsD7n31LuNlEv8u70L9X/bDYZV07akhMpI1SmEjAmUwGvRM70TuxiSGxtWWAhsRE2jKFibQ5Zw+JlZ2o9p7Ibzwkdnm3aPr3jmVAr1g6de4QyJJFQp7h8XhCchrYsrKKoJ4B12aLweEIvelMGobEGo5a9hw6gcvtwTAgrlMkiXEdSYzrQEJcBxJjO5AY15GYDpaQGx4L1T8f30V94etS+8NkMoiLi27yfR2ZSFBpPCQ2rtGQWGl5LXsPHKOotJJ/fnuM2kZTvHSMNJMY17E+YOI6kBhbHzhdO0cSZtIJfpGWoDCRoNYwJNb4ty23x8PRk9UcKTtFUdkpio6e4khZJdv2lrF+W5H3s+Ywg25dOviETEJcBxJiOxAVob8aIhdDf2Ok3TEZBl2tUXS1RjHgijif9yqr6xqFTCVHyk5xyFHJF/9XirvRiG+XmAifgEmMqx8y6xwdHnJDZiIXQmEiIaVjpIU+dit97FafdqfLTcmxKorKTnHkaGV92JSd4tPtRVTXurzrRYaH1Z+TOT1UVn9+piPdukRhDtOQmYQuhYkIYA4zcVnXjlzWtSNg87Z7PB5OVNZSVFpJ0dH6gDlSVsk/Dxxjw9dHvOuZDANb50is0RF0iDATFWGu/xkZRlSj5Yb3GreFW0w62pGgpzAROQ/DMOgcHUHn6Aj+pVesz3vVtU6Kj1ZRVFbpPTdTXlnL0ZPVnKpxUlXj5FSNk++7XjLMZJwOl7AzIXRW4ERFmOkQaT5nvYb3LGYFkgSWwkTkEkWGm+mZEEPPhJgm1/F4PNTUuaiqcXkDpqrGyanqRq+/o91xvNrbVlXj5PsuYm8IpIZwie4YjuHxYDGbiLCEEW4xYTHX/wxv/NNsItxy5qfv+o3eM4dhMimspGkKE5FWZBgGkeFmIsPNdImJuKRtuD0eampd5wZPjZOq6oY2l087hkHFqTpqK1zUOt3U1rmoc7qpqXPjdF3akzHNYabToXMmkCzmMCIsZ4Io/KzAMoeZMIcZWMJMmM31y2den24/vWw5ve6Z16fXNxuYw3Tk1dYpTETaOJNheIe8Yr9/deD8N6a53Z76YHG6qKtzU+t0Udvw83Tw1DZqr2to8/5seH1mnZOVtafDqj60GtpdLXhjcJjJ8A2dsPqjJ2/onA6iswMrJjqSuhonYWEGYSbj9E9T/euG/8IaLTd+v+F1mEGY8V3v1X/WfNZ2TI22HSohGNRh8t577/Hyyy/jdDqZPn06U6ZMCXRJIm2eyWQQER5GRHhYq3+X2+PB6aw/GqpzNX5d/9Pp9DR63ajdVR94ztPL9a89Zz77Hdt0utzU1LqocNXVr3t6ex4P1DldON0eXC4PLrf7e89jtaSzQ6px0JwdQObGQRTmG3j17aYzIWbyDTaT0SjgGrefXtd8+rOpHS/tCPn7BG2YFBcXk5WVxbvvvkt4eDiTJk3ihz/8IUlJSYEuTUROMxlG/XkXS+sHV1O+6yjN7TkTLG63xydoXN7Xp5cbXrvcuDyN3zvd1uh14+243Y3X8+Bs3NZ4+25Po/Yz26t1Or3r1tfb6LtOr+s+q54LUVZRy5ghPVq8n4M2TAoKCrj++uvp3LkzAKNGjSI/P5+HHnoowJWJSFtnMgxMZgML7efeII/Hc064+ISUp365/w+6cbSsosW/P2jDpKSkBJvtzP0A8fHxbNu27YI/f74Jy4KFzdb0VUShSP3hS/1xhvrCV2v0R9CGidvt9jmx5fF4LupEl2YNbl/UH77UH2eoL3y11qzBQXuMl5CQgMPh8C47HA7i4+MDWJGISOgK2jC54YYb2LBhA0ePHqWqqorVq1eTmpoa6LJEREJS0A5zdevWjUcffZRp06ZRV1fHHXfcwdVXXx3oskREQlLQhglAeno66enpgS5DRCTkBe0wl4iItB1BfWTSHO1h0rr2sA8tSf3hS/1xhvrC16X0x/d9xvB4/DmxgIiItEca5hIRkWZTmIiISLMpTEREpNkUJiIi0mwKExERaTaFiYiINJvCREREmk1hIiIizaYwERGRZlOYBKGXXnqJtLQ00tLSeOaZZwJdTpvw9NNPk5mZGegyAm7t2rVkZGQwZswYFi1aFOhyAi43N9f7d+Xpp58OdDkBUVFRwbhx4zh48CBQ/8jz9PR0Ro4cSVZWVot9j8IkyBQUFLB+/XpWrFhBTk4OX3/9NWvWrAl0WQG1YcMGVqxYEegyAu7AgQMsWLCA7Oxs/vrXv7Jjxw7WrVsX6LICpqqqisWLF/Pqq6+Sm5vLli1bKCgoCHRZfvWPf/yDu+66i/379wNQXV3NnDlzyM7OJi8vj+3bt7fYnxGFSZCx2WxkZmYSHh6OxWKhT58+HD58ONBlBczx48fJysrivvvuC3QpAbdmzRrGjh1LQkICFouFrKwsBg4cGOiyAsblcuF2u6mqqsLpdOJ0OomIiAh0WX61bNkyFixY4H0K7bZt2+jZsyc9evTAbDaTnp5Ofn5+i3xXyM4aHKz69u3rfb1//37ef/993nzzzQBWFFjz58/n0UcfpaioKNClBFxhYSEWi4X77ruPoqIibr75Zh555JFAlxUw0dHRzJw5kzFjxhAVFcWQIUO49tprA12WXy1evNhnuaSkBJvN5l2Oj4+nuLi4Rb5LRyZBavfu3fzkJz/hl7/8Jb169Qp0OQHxzjvvkJiYSEpKSqBLaRNcLhcbNmzgN7/5DW+//Tbbtm0L6eG/Xbt2sXz5cj766CM++eQTTCYTr7zySqDLCii3241hnJlK3uPx+Cw3h8IkCG3dupW7776bX/ziF9x+++2BLidg8vLy+PTTTxk/fjwvvPACa9eu5Te/+U2gywqYrl27kpKSQmxsLJGRkfzoRz9i27ZtgS4rYNavX09KSgpxcXGEh4eTkZHBpk2bAl1WQCUkJOBwOLzLDofDOwTWXBrmCjJFRUU8+OCDZGVlhfxv5H/+85+9r9999102bdrEnDlzAlhRYA0fPpzHH3+ckydP0rFjRz755BNuueWWQJcVMFdeeSXPPvssp06dIioqirVr13LVVVcFuqyAGjhwIPv27aOwsJDu3buzcuVK/u3f/q1Ftq0wCTKvvPIKNTU1PPXUU962SZMmcddddwWwKmkLBg4cyL333svkyZOpq6vjxhtvbLF/KILR0KFD2bFjBxkZGVgsFq666ipmzJgR6LICKiIigqeeeoqf//zn1NTUMGzYMEaPHt0i29aTFkVEpNl0zkRERJpNYSIiIs2mMBERkWZTmIiISLMpTEREpNkUJtIuHDx4kH79+vHOO+/4tL/yyistOpvwiBEj+Oqrr1pse+dTUVHBpEmTSEtLY/Xq1Rf0malTp17yXEvl5eVMmzbtkj4rovtMpN0wmUw8/fTTDB48mCuuuCLQ5TTbzp07KSsr89us0CdOnPBbUEr7ozCRdiMyMpJ77rmHWbNm8dZbbxEeHu7zfmZmJn379uXf//3fz1keMWIE48aN47PPPuPEiRPce++9fP7553z99deYzWZefvllunXrBsAbb7zBrl27qK2t5Z577uGOO+4A6p8l8vLLL1NXV0dkZCSPP/4411xzDS+++CJffvklJSUl9OvXj6VLl/rU9eGHH/LSSy/hdrvp2LEjTzzxBNHR0cyZM4fi4mLGjx/P22+/TWRkpPczDoeDBQsW8M0332AymZg0aZLPUcXBgwdJT0/niy++OGfZ4XDw+OOPc+zYMQCGDRvGI488whNPPEF1dTXjx4/n3XffZf/+/SxevJjjx4/jcrmYOnUqd9xxBxs3bmTx4sV06NCByspK3njjDebOnUthYSEmk4n+/fvz5JNPYjJp4COUKEykXbn//vvZsGEDWVlZPP744xf12ZqaGpYtW0ZeXh6/+MUvWLFiBVdeeSUPPvggK1as8E5zHxERwYoVKyguLub2229n4MCB3inf/+d//ocuXbqwe/du7rnnHu/w1KFDh1i5ciVms+9fub1797JgwQLeeustevTowYYNG3jggQfIz89n0aJF/PrXvyY3N/ecWhcuXEivXr3Izs6mvLycu+66i2HDhl3Qfi5btozu3bvzpz/9iVOnTjF37lzKy8tZsmQJ6enp5Obm4nQ6efjhh3nmmWfo378/5eXl/PjHPyYpKQmon2j0ww8/xG63k5OTQ2VlJbm5ubhcLhYsWMCBAwfo2bPnRfW/BDeFibQrJpOJZ599lgkTJjB06NCL+uzIkSMB6NGjB127duXKK68E4PLLL+fEiRPe9SZNmgRAt27duPHGG9mwYQNhYWGUlJRw9913e9czDINvv/0WgEGDBp0TJACfffYZ119/PT169ADwTtS4ffv2887mWlBQwOzZswGIiYlh5cqVF7yfN910EzNmzKCoqIgbbriBX/ziF8TExPjs4/79+/n222995jqrrq5mx44d9OnTh8TEROx2OwCDBw8mKyuLqVOncsMNNzB9+nQFSQhSmEi7k5iYyMKFC3n88ceZMGGCt90wDBrPHlRXV+fzucbDYhaLpcntNx6+cbvdmM1mXC4XKSkpPP/88973ioqKiI+PZ82aNXTo0OE7t3X2lOBQPy240+k8bw1ms9nncwcOHKBLly7e5fPt69VXX83f/vY3NmzYwGeffcbEiRP5r//6Lzp37uxdx+VyERMT43NUVFpaSkxMDF9++aXP/vTo0YM1a9awceNGPvvsM+655x6efPJJRowY0WT90v5oUFPapdGjR5Oamspf/vIXb1uXLl3Yvn07AMXFxZc8HXnDM0IOHz7Mhg0bSElJISUlhU8//ZS9e/cCsG7dOm677Taqq6vPu62UlBTWr1/PgQMHgPpHEBcVFX3vExJTUlJYvnw5UH8V1vTp072PZgXo1KkTdXV17NmzB4BVq1Z531u6dCnZ2dn86Ec/Yu7cuSQlJbF7925vKHo8Hnr37k1kZKQ3TIqKihg3bpy3/xp74403eOKJJxg6dCizZ8/2TrAooUVHJtJuzZs3j61bt3qXp06dyqxZsxg1ahTdu3fn+uuvv6Tt1tTUcPvtt1NXV8e8efPo3bs3AE8++SSPPfYYHo/He9K+Y8eO591WUlISCxYs4KGHHsLlchEZGcnvf/97YmJizvu5+fPn86tf/Yr09HQ8Hg8/+9nPGDBggPf9mJgYZs+ezU9/+lNiY2N9ZoadPn06mZmZjBs3jvDwcPr160daWhphYWFcffXVpKWl8frrr5Odnc3ixYv54x//iNPpZObMmQwePJiNGzf61DJhwgQ2bdrE2LFjiYqKIjExkalTp15st0qQ06zBIiLSbBrmEhGRZlOYiIhIsylMRESk2RQmIiLSbAoTERFpNoWJiIg0m8JERESaTWEiIiLN9v8BnZhi9o5nz1UAAAAASUVORK5CYII=\n"
            ]
          },
          "metadata": {}
        }
      ],
      "execution_count": 122,
      "metadata": {
        "collapsed": true,
        "outputExpanded": false,
        "jupyter": {
          "source_hidden": false,
          "outputs_hidden": false
        },
        "nteract": {
          "transient": {
            "deleting": false
          }
        },
        "execution": {
          "iopub.status.busy": "2020-05-09T01:19:04.366Z",
          "iopub.execute_input": "2020-05-09T01:19:04.379Z",
          "iopub.status.idle": "2020-05-09T01:19:05.036Z",
          "shell.execute_reply": "2020-05-09T01:19:05.045Z"
        }
      }
    },
    {
      "cell_type": "code",
      "source": [
        "# Bend in the curve indicates the optimal number of clusters\n",
        "\n",
        "# number of clusters = either 2 or 3"
        "\n",
        "# Source: \n"
        "# https://towardsdatascience.com/machine-learning-algorithms-part-9-k-means-example-in-python-f2ad05ed5203\n",
        "# https://scikit-learn.org/stable/modules/generated/sklearn.cluster.KMeans.html\n",
      ],
      "outputs": [],
      "execution_count": null,
      "metadata": {
        "collapsed": true,
        "outputExpanded": false,
        "jupyter": {
          "source_hidden": false,
          "outputs_hidden": false
        },
        "nteract": {
          "transient": {
            "deleting": false
          }
        }
      }
    },
    {
      "cell_type": "markdown",
      "source": [
        "# Apply K-means clustering"
      ],
      "metadata": {
        "nteract": {
          "transient": {
            "deleting": false
          }
        }
      }
    },
    {
      "cell_type": "code",
      "source": [
        "from sklearn.cluster import KMeans\n",
        "import numpy as np\n",
        "\n",
        "kmeans = KMeans(n_clusters=3, random_state=0).fit(df_SivamsData)\n",
        "\n",
        "kmeans.labels_\n",
        "\n"
      ],
      "outputs": [
        {
          "output_type": "execute_result",
          "execution_count": 136,
          "data": {
            "text/plain": [
              "array([1, 1, 1, 1, 1, 1, 1, 1, 1, 1, 1, 1, 1, 1, 1, 2, 2, 2, 2, 2, 2, 2,\n",
              "       2, 2, 2, 2, 2, 2, 2, 2, 2, 2, 0, 0, 0, 0, 0, 0, 0, 0, 0, 0, 0, 0,\n",
              "       0, 0, 0, 0, 0])"
            ]
          },
          "metadata": {}
        }
      ],
      "execution_count": 136,
      "metadata": {
        "collapsed": true,
        "outputExpanded": false,
        "jupyter": {
          "source_hidden": false,
          "outputs_hidden": false
        },
        "nteract": {
          "transient": {
            "deleting": false
          }
        },
        "execution": {
          "iopub.status.busy": "2020-05-09T01:27:30.336Z",
          "iopub.execute_input": "2020-05-09T01:27:30.350Z",
          "iopub.status.idle": "2020-05-09T01:27:30.368Z",
          "shell.execute_reply": "2020-05-09T01:27:30.387Z"
        }
      }
    },
    {
      "cell_type": "code",
      "source": [
        "#kmeans.predict([[0, 0], [12, 3]])"
      ],
      "outputs": [],
      "execution_count": 69,
      "metadata": {
        "collapsed": true,
        "outputExpanded": false,
        "jupyter": {
          "source_hidden": false,
          "outputs_hidden": false
        },
        "nteract": {
          "transient": {
            "deleting": false
          }
        },
        "execution": {
          "iopub.status.busy": "2020-05-09T00:55:44.622Z",
          "iopub.execute_input": "2020-05-09T00:55:44.629Z",
          "iopub.status.idle": "2020-05-09T00:55:44.644Z",
          "shell.execute_reply": "2020-05-09T00:55:44.651Z"
        }
      }
    },
    {
      "cell_type": "code",
      "source": [
        "kmeans.cluster_centers_"
      ],
      "outputs": [
        {
          "output_type": "execute_result",
          "execution_count": 137,
          "data": {
            "text/plain": [
              "array([[ 62.13363075, -12.44991324],\n",
              "       [ 28.71475525, -10.47301101],\n",
              "       [ 44.96732067, -11.89890546]])"
            ]
          },
          "metadata": {}
        }
      ],
      "execution_count": 137,
      "metadata": {
        "collapsed": true,
        "outputExpanded": false,
        "jupyter": {
          "source_hidden": false,
          "outputs_hidden": false
        },
        "nteract": {
          "transient": {
            "deleting": false
          }
        },
        "execution": {
          "iopub.status.busy": "2020-05-09T01:27:31.952Z",
          "iopub.execute_input": "2020-05-09T01:27:31.959Z",
          "iopub.status.idle": "2020-05-09T01:27:31.976Z",
          "shell.execute_reply": "2020-05-09T01:27:31.984Z"
        }
      }
    },
    {
      "cell_type": "code",
      "source": [
        "fig1 = plt.figure(figsize=(10,8))\n",
        "\n",
        "plt.scatter(x, y)\n",
        "plt.scatter(kmeans.cluster_centers_[:, 0], kmeans.cluster_centers_[:, 1], s=300, c='red')\n",
        "plt.show()"
      ],
      "outputs": [
        {
          "output_type": "display_data",
          "data": {
            "text/plain": [
              "<Figure size 720x576 with 1 Axes>"
            ],
            "image/png": [
              "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\n"
            ]
          },
          "metadata": {}
        }
      ],
      "execution_count": 138,
      "metadata": {
        "collapsed": true,
        "outputExpanded": false,
        "jupyter": {
          "source_hidden": false,
          "outputs_hidden": false
        },
        "nteract": {
          "transient": {
            "deleting": false
          }
        },
        "execution": {
          "iopub.status.busy": "2020-05-09T01:27:34.219Z",
          "iopub.execute_input": "2020-05-09T01:27:34.229Z",
          "iopub.status.idle": "2020-05-09T01:27:34.638Z",
          "shell.execute_reply": "2020-05-09T01:27:34.694Z"
        }
      }
    },
    {
      "cell_type": "code",
      "source": [],
      "outputs": [],
      "execution_count": null,
      "metadata": {
        "collapsed": true,
        "outputExpanded": false,
        "jupyter": {
          "source_hidden": false,
          "outputs_hidden": false
        },
        "nteract": {
          "transient": {
            "deleting": false
          }
        }
      }
    }
  ],
  "metadata": {
    "kernel_info": {
      "name": "python3"
    },
    "language_info": {
      "name": "python",
      "version": "3.7.6",
      "mimetype": "text/x-python",
      "codemirror_mode": {
        "name": "ipython",
        "version": 3
      },
      "pygments_lexer": "ipython3",
      "nbconvert_exporter": "python",
      "file_extension": ".py"
    },
    "kernelspec": {
      "argv": [
        "C:/Users/Blue/Anaconda3\\python.exe",
        "-m",
        "ipykernel_launcher",
        "-f",
        "{connection_file}"
      ],
      "display_name": "Python 3",
      "language": "python",
      "name": "python3"
    },
    "nteract": {
      "version": "0.23.1"
    }
  },
  "nbformat": 4,
  "nbformat_minor": 0
}
